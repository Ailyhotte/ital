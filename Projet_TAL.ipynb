{
  "nbformat": 4,
  "nbformat_minor": 0,
  "metadata": {
    "colab": {
      "provenance": [],
      "collapsed_sections": [
        "bmNyjhyibUS3",
        "3zxfLCUc1IQE"
      ]
    },
    "kernelspec": {
      "name": "python3",
      "display_name": "Python 3"
    },
    "language_info": {
      "name": "python"
    }
  },
  "cells": [
    {
      "cell_type": "code",
      "execution_count": 150,
      "metadata": {
        "id": "k5Hcy_nVUJHn"
      },
      "outputs": [],
      "source": [
        "import pandas as pd\n",
        "import numpy as np\n",
        "from sklearn.feature_extraction.text import TfidfVectorizer\n",
        "from sklearn.svm import SVC\n",
        "from sklearn.metrics import accuracy_score, classification_report\n",
        "import gensim\n",
        "from gensim.utils import simple_preprocess\n",
        "from gensim.models import Word2Vec\n",
        "from sklearn.model_selection import train_test_split\n",
        "import string\n",
        "from sklearn.naive_bayes import GaussianNB\n",
        "from sklearn.neighbors import KNeighborsClassifier\n",
        "from sklearn.ensemble import RandomForestClassifier\n",
        "from sklearn.linear_model import LogisticRegression\n",
        "from sklearn.metrics import f1_score\n",
        "from sklearn.metrics import confusion_matrix\n",
        "import seaborn as sns\n",
        "import matplotlib.pyplot as plt"
      ]
    },
    {
      "cell_type": "code",
      "source": [
        "train = pd.read_csv(\"sample_data/train.csv\",sep =',')\n",
        "test = pd.read_csv(\"sample_data/test.csv\",sep =',')"
      ],
      "metadata": {
        "id": "BZAzO9WQUsOw"
      },
      "execution_count": null,
      "outputs": []
    },
    {
      "cell_type": "code",
      "source": [
        "train = train.dropna()\n",
        "test = test.dropna()"
      ],
      "metadata": {
        "id": "uBwmIRjjVi-m"
      },
      "execution_count": null,
      "outputs": []
    },
    {
      "cell_type": "code",
      "source": [
        "data_train = train['cout']  + train['difficulte'] + train['ingredients'] + train['recette'] + train['titre']\n",
        "data_test = test['cout'] + test['difficulte'] + test['ingredients'] + test['recette'] + test['titre']"
      ],
      "metadata": {
        "id": "sfoNXmEnr3Jy"
      },
      "execution_count": null,
      "outputs": []
    },
    {
      "cell_type": "markdown",
      "source": [
        "# Methode Baseline\n",
        "\n",
        "## Guess majoritaire"
      ],
      "metadata": {
        "id": "bmNyjhyibUS3"
      }
    },
    {
      "cell_type": "code",
      "source": [
        "print(train[\"type\"].value_counts())\n",
        "print(train[\"type\"].value_counts().idxmax())"
      ],
      "metadata": {
        "colab": {
          "base_uri": "https://localhost:8080/"
        },
        "id": "M6c0xTQRbVCG",
        "outputId": "abc39abb-6ed7-4e38-b0e0-a47791824a84"
      },
      "execution_count": null,
      "outputs": [
        {
          "output_type": "stream",
          "name": "stdout",
          "text": [
            "type\n",
            "Plat principal    5802\n",
            "Dessert           3762\n",
            "Entrée            2909\n",
            "Name: count, dtype: int64\n",
            "Plat principal\n"
          ]
        }
      ]
    },
    {
      "cell_type": "code",
      "source": [
        "def get_baseline(df, column):\n",
        "  element = df[column].value_counts().idxmax()\n",
        "  return np.full((df.shape[0], ), element)"
      ],
      "metadata": {
        "id": "QHnJ0_53bngm"
      },
      "execution_count": null,
      "outputs": []
    },
    {
      "cell_type": "code",
      "source": [
        "def accuracy_score(y_true, y_pred):\n",
        "    correct_predictions = np.sum(y_true == y_pred)\n",
        "    accuracy = correct_predictions / len(y_true)\n",
        "    return accuracy"
      ],
      "metadata": {
        "id": "i-2GS4Zkd5ke"
      },
      "execution_count": null,
      "outputs": []
    },
    {
      "cell_type": "code",
      "source": [
        "y_test = test[\"type\"]\n",
        "accuracy_score(y_test, get_baseline(test, \"type\"))"
      ],
      "metadata": {
        "colab": {
          "base_uri": "https://localhost:8080/"
        },
        "id": "NTIGozEVeCDB",
        "outputId": "512f3a99-33d8-48cf-dfc2-6f41664bb3cb"
      },
      "execution_count": 145,
      "outputs": [
        {
          "output_type": "execute_result",
          "data": {
            "text/plain": [
              "0.46397694524495675"
            ]
          },
          "metadata": {},
          "execution_count": 145
        }
      ]
    },
    {
      "cell_type": "markdown",
      "source": [
        "# Methode TF-IDF\n",
        "\n",
        "## Creation d'un corpus complet"
      ],
      "metadata": {
        "id": "RfRkkG3fWmDP"
      }
    },
    {
      "cell_type": "code",
      "source": [
        "corpus = pd.concat([train, test])\n",
        "corpus[\"recette\"] = corpus[\"recette\"].str.lower()\n",
        "train['recette'] = train[\"recette\"].str.lower()\n",
        "test['recette'] = test[\"recette\"].str.lower()"
      ],
      "metadata": {
        "id": "ckNhEVLEWoZm"
      },
      "execution_count": null,
      "outputs": []
    },
    {
      "cell_type": "code",
      "source": [
        "def remove_punctuation(text):\n",
        "    translator = str.maketrans('', '', string.punctuation)\n",
        "    return text.translate(translator)"
      ],
      "metadata": {
        "id": "Ny9BQ-2xwdyp"
      },
      "execution_count": null,
      "outputs": []
    },
    {
      "cell_type": "code",
      "source": [
        "corpus_global = pd.concat([data_train, data_test])\n",
        "corpus_global = corpus_global.str.lower()\n",
        "corpus_global = corpus_global.apply(remove_punctuation)"
      ],
      "metadata": {
        "id": "BDwnm3MPsafr"
      },
      "execution_count": null,
      "outputs": []
    },
    {
      "cell_type": "markdown",
      "source": [
        "## Vectorisation des données"
      ],
      "metadata": {
        "id": "BXgYk2JRvKWe"
      }
    },
    {
      "cell_type": "code",
      "source": [
        "vectorizer = TfidfVectorizer()\n",
        "vectorizer.fit(corpus[\"recette\"])\n",
        "X_train = vectorizer.transform(train['recette'])\n",
        "X_test = vectorizer.transform(test['recette'])"
      ],
      "metadata": {
        "id": "y_2E9OWKXVou"
      },
      "execution_count": null,
      "outputs": []
    },
    {
      "cell_type": "code",
      "source": [
        "vectorizer_global = TfidfVectorizer()\n",
        "vectorizer.fit(corpus_global)\n",
        "X_train_global = vectorizer.transform(data_train)\n",
        "X_test_global = vectorizer.transform(data_test)"
      ],
      "metadata": {
        "id": "Zgg0nu4ItbYC"
      },
      "execution_count": null,
      "outputs": []
    },
    {
      "cell_type": "code",
      "source": [
        "y_train = train[\"type\"]\n",
        "y_test = test[\"type\"]"
      ],
      "metadata": {
        "id": "K8KcroBfcRKQ"
      },
      "execution_count": null,
      "outputs": []
    },
    {
      "cell_type": "markdown",
      "source": [
        "## Entrainement / Evaluation des modèles"
      ],
      "metadata": {
        "id": "3jfDyaYQvOGN"
      }
    },
    {
      "cell_type": "code",
      "source": [
        "logreg = LogisticRegression(random_state=0).fit(X_train_global, y_train)\n",
        "y_pred = logreg.predict(X_test_global)\n",
        "print(classification_report(y_test, y_pred))\n",
        "print(f1_score(y_test, y_pred, average=\"weighted\"))"
      ],
      "metadata": {
        "colab": {
          "base_uri": "https://localhost:8080/"
        },
        "id": "sEClydxSqmt7",
        "outputId": "a09eb28e-088a-40b7-a2dc-7e5426d17a0b"
      },
      "execution_count": 151,
      "outputs": [
        {
          "output_type": "stream",
          "name": "stdout",
          "text": [
            "                precision    recall  f1-score   support\n",
            "\n",
            "       Dessert       0.98      0.99      0.99       407\n",
            "        Entrée       0.78      0.70      0.74       337\n",
            "Plat principal       0.85      0.90      0.87       644\n",
            "\n",
            "      accuracy                           0.88      1388\n",
            "     macro avg       0.87      0.86      0.87      1388\n",
            "  weighted avg       0.88      0.88      0.88      1388\n",
            "\n",
            "0.8756805759732514\n"
          ]
        }
      ]
    },
    {
      "cell_type": "code",
      "source": [
        "cm = confusion_matrix(y_test, y_pred)\n",
        "plt.figure(figsize=(8,6))\n",
        "sns.heatmap(cm, annot=True, fmt=\"d\", cmap=\"Blues\", xticklabels=logreg.classes_, yticklabels=logreg.classes_)\n",
        "plt.xlabel(\"Prédictions\")\n",
        "plt.ylabel(\"Vraies classes\")\n",
        "plt.title(\"Matrice de Confusion\")\n",
        "plt.show()"
      ],
      "metadata": {
        "colab": {
          "base_uri": "https://localhost:8080/",
          "height": 564
        },
        "id": "fVyYg3Qw0shy",
        "outputId": "8cef17bd-7b03-4a95-b947-c05bf928ecce"
      },
      "execution_count": 152,
      "outputs": [
        {
          "output_type": "display_data",
          "data": {
            "text/plain": [
              "<Figure size 800x600 with 2 Axes>"
            ],
            "image/png": "[encoded data removed]"
          },
          "metadata": {}
        }
      ]
    },
    {
      "cell_type": "code",
      "source": [
        "SVC_global = SVC()\n",
        "SVC_global.fit(X_train_global, y_train)\n",
        "y_pred = SVC_global.predict(X_test_global)\n",
        "print(classification_report(y_test, y_pred))\n",
        "print(f1_score(y_test, y_pred, average=\"weighted\"))"
      ],
      "metadata": {
        "colab": {
          "base_uri": "https://localhost:8080/"
        },
        "id": "DgYSInuBtk9e",
        "outputId": "65ab33d4-5872-4c66-864f-d2fc238fb404"
      },
      "execution_count": 153,
      "outputs": [
        {
          "output_type": "stream",
          "name": "stdout",
          "text": [
            "                precision    recall  f1-score   support\n",
            "\n",
            "       Dessert       0.98      1.00      0.99       407\n",
            "        Entrée       0.77      0.71      0.74       337\n",
            "Plat principal       0.86      0.89      0.87       644\n",
            "\n",
            "      accuracy                           0.87      1388\n",
            "     macro avg       0.87      0.86      0.86      1388\n",
            "  weighted avg       0.87      0.87      0.87      1388\n",
            "\n",
            "0.8723969360670913\n"
          ]
        }
      ]
    },
    {
      "cell_type": "code",
      "source": [
        "cm = confusion_matrix(y_test, y_pred)\n",
        "plt.figure(figsize=(8,6))\n",
        "sns.heatmap(cm, annot=True, fmt=\"d\", cmap=\"Reds\", xticklabels=logreg.classes_, yticklabels=logreg.classes_)\n",
        "plt.xlabel(\"Prédictions\")\n",
        "plt.ylabel(\"Vraies classes\")\n",
        "plt.title(\"Matrice de Confusion\")\n",
        "plt.show()"
      ],
      "metadata": {
        "colab": {
          "base_uri": "https://localhost:8080/",
          "height": 564
        },
        "id": "SnmoNh4m1kSF",
        "outputId": "c94552ad-4937-482c-fe33-ada213879459"
      },
      "execution_count": 154,
      "outputs": [
        {
          "output_type": "display_data",
          "data": {
            "text/plain": [
              "<Figure size 800x600 with 2 Axes>"
            ],
            "image/png": "[encoded data removed]"
          },
          "metadata": {}
        }
      ]
    },
    {
      "cell_type": "code",
      "source": [
        "SVC_recette = SVC()\n",
        "SVC_recette.fit(X_train, y_train)\n",
        "y_pred = SVC_recette.predict(X_test)\n",
        "print(classification_report(y_test, y_pred))\n",
        "print(f1_score(y_test, y_pred, average=\"weighted\"))"
      ],
      "metadata": {
        "colab": {
          "base_uri": "https://localhost:8080/"
        },
        "id": "A106ndTGYJQO",
        "outputId": "bffe02a3-4256-4dc3-d003-73c19234d1e6"
      },
      "execution_count": null,
      "outputs": [
        {
          "output_type": "stream",
          "name": "stdout",
          "text": [
            "                precision    recall  f1-score   support\n",
            "\n",
            "       Dessert       0.97      0.99      0.98       407\n",
            "        Entrée       0.79      0.69      0.73       337\n",
            "Plat principal       0.85      0.90      0.87       644\n",
            "\n",
            "      accuracy                           0.87      1388\n",
            "     macro avg       0.87      0.86      0.86      1388\n",
            "  weighted avg       0.87      0.87      0.87      1388\n",
            "\n",
            "0.8714185719404623\n"
          ]
        }
      ]
    },
    {
      "cell_type": "code",
      "source": [
        "neigh = KNeighborsClassifier(n_neighbors=15, metric=\"cosine\")\n",
        "neigh.fit(X_train_global, train[\"type\"])\n",
        "y_pred = neigh.predict(X_test_global)\n",
        "print(classification_report(y_test, y_pred))"
      ],
      "metadata": {
        "colab": {
          "base_uri": "https://localhost:8080/"
        },
        "id": "HdzWBCJjavnD",
        "outputId": "fdf7ac19-f6ea-4cfb-bd79-af915561aed5"
      },
      "execution_count": null,
      "outputs": [
        {
          "output_type": "stream",
          "name": "stdout",
          "text": [
            "                precision    recall  f1-score   support\n",
            "\n",
            "       Dessert       0.91      0.99      0.95       407\n",
            "        Entrée       0.71      0.45      0.55       337\n",
            "Plat principal       0.77      0.88      0.82       644\n",
            "\n",
            "      accuracy                           0.81      1388\n",
            "     macro avg       0.80      0.77      0.77      1388\n",
            "  weighted avg       0.80      0.81      0.79      1388\n",
            "\n"
          ]
        }
      ]
    },
    {
      "cell_type": "code",
      "source": [
        "clf = RandomForestClassifier(max_depth=20, random_state=0)\n",
        "clf.fit(X_train_global, train[\"type\"])\n",
        "y_pred = clf.predict(X_test_global)\n",
        "print(classification_report(y_test, y_pred))"
      ],
      "metadata": {
        "colab": {
          "base_uri": "https://localhost:8080/"
        },
        "id": "rFxBYZGEbqpx",
        "outputId": "a1a9b0f0-f9ed-41f8-eb9f-38e56f196836"
      },
      "execution_count": null,
      "outputs": [
        {
          "output_type": "stream",
          "name": "stdout",
          "text": [
            "                precision    recall  f1-score   support\n",
            "\n",
            "       Dessert       0.94      0.98      0.96       407\n",
            "        Entrée       1.00      0.07      0.14       337\n",
            "Plat principal       0.68      0.99      0.80       644\n",
            "\n",
            "      accuracy                           0.76      1388\n",
            "     macro avg       0.87      0.68      0.63      1388\n",
            "  weighted avg       0.83      0.76      0.69      1388\n",
            "\n"
          ]
        }
      ]
    },
    {
      "cell_type": "markdown",
      "source": [
        "# Word2Vec"
      ],
      "metadata": {
        "id": "3zxfLCUc1IQE"
      }
    },
    {
      "cell_type": "code",
      "source": [
        "def get_vector(text, model):\n",
        "    vectors = [model.wv[word] for word in text if word in model.wv]\n",
        "    if not vectors:\n",
        "        return np.zeros(model.vector_size)\n",
        "    return np.mean(vectors, axis=0)"
      ],
      "metadata": {
        "id": "On1qXIBlmSx3"
      },
      "execution_count": null,
      "outputs": []
    },
    {
      "cell_type": "code",
      "source": [
        "#processed_text_train = [simple_preprocess(sentence, min_len=1) for sentence in train[\"recette\"]]\n",
        "#processed_text_test = [simple_preprocess(sentence, min_len=1) for sentence in test[\"recette\"]]\n",
        "processed_text_train = [simple_preprocess(sentence, min_len=1) for sentence in data_train]\n",
        "processed_text_test = [simple_preprocess(sentence, min_len=1) for sentence in data_test]\n",
        "modelW2V = Word2Vec(sentences=processed_text_train, vector_size=100, window=5, min_count=1, workers=4)\n",
        "train_vectors = np.array([get_vector(text, modelW2V) for text in processed_text_train])\n",
        "test_vectors = np.array([get_vector(text, modelW2V) for text in processed_text_test])\n"
      ],
      "metadata": {
        "id": "ZqDeI9SFmI-K"
      },
      "execution_count": null,
      "outputs": []
    },
    {
      "cell_type": "code",
      "source": [
        "logreg = LogisticRegression(random_state=0).fit(train_vectors, y_train)\n",
        "y_pred = logreg.predict(test_vectors)\n",
        "print(classification_report(y_test, y_pred))"
      ],
      "metadata": {
        "colab": {
          "base_uri": "https://localhost:8080/"
        },
        "id": "ov7p7oMoq9c1",
        "outputId": "ca0f6c73-1b20-4c76-ad5d-d33724a23639"
      },
      "execution_count": null,
      "outputs": [
        {
          "output_type": "stream",
          "name": "stdout",
          "text": [
            "                precision    recall  f1-score   support\n",
            "\n",
            "       Dessert       0.98      0.99      0.98       407\n",
            "        Entrée       0.72      0.61      0.66       337\n",
            "Plat principal       0.81      0.87      0.84       644\n",
            "\n",
            "      accuracy                           0.84      1388\n",
            "     macro avg       0.84      0.82      0.83      1388\n",
            "  weighted avg       0.84      0.84      0.84      1388\n",
            "\n"
          ]
        },
        {
          "output_type": "stream",
          "name": "stderr",
          "text": [
            "/usr/local/lib/python3.11/dist-packages/sklearn/linear_model/_logistic.py:465: ConvergenceWarning: lbfgs failed to converge (status=1):\n",
            "STOP: TOTAL NO. of ITERATIONS REACHED LIMIT.\n",
            "\n",
            "Increase the number of iterations (max_iter) or scale the data as shown in:\n",
            "    https://scikit-learn.org/stable/modules/preprocessing.html\n",
            "Please also refer to the documentation for alternative solver options:\n",
            "    https://scikit-learn.org/stable/modules/linear_model.html#logistic-regression\n",
            "  n_iter_i = _check_optimize_result(\n"
          ]
        }
      ]
    },
    {
      "cell_type": "code",
      "source": [
        "classifier = SVC(kernel='linear')\n",
        "classifier.fit(train_vectors, y_train)\n",
        "y_pred = classifier.predict(test_vectors)\n",
        "print(classification_report(y_test, y_pred))"
      ],
      "metadata": {
        "colab": {
          "base_uri": "https://localhost:8080/"
        },
        "id": "AuLN174ifuIf",
        "outputId": "5722d1c4-4b2b-4269-9e59-b8ce9448980b"
      },
      "execution_count": null,
      "outputs": [
        {
          "output_type": "stream",
          "name": "stdout",
          "text": [
            "                precision    recall  f1-score   support\n",
            "\n",
            "       Dessert       0.98      0.99      0.99       407\n",
            "        Entrée       0.72      0.59      0.65       337\n",
            "Plat principal       0.81      0.88      0.84       644\n",
            "\n",
            "      accuracy                           0.84      1388\n",
            "     macro avg       0.83      0.82      0.82      1388\n",
            "  weighted avg       0.84      0.84      0.84      1388\n",
            "\n"
          ]
        }
      ]
    },
    {
      "cell_type": "code",
      "source": [
        "neigh = KNeighborsClassifier(n_neighbors=20, metric=\"cosine\")\n",
        "neigh.fit(train_vectors, train[\"type\"])\n",
        "y_pred = neigh.predict(test_vectors)\n",
        "print(classification_report(y_test, y_pred))"
      ],
      "metadata": {
        "colab": {
          "base_uri": "https://localhost:8080/"
        },
        "id": "NBRucE-hZFxP",
        "outputId": "e309ea32-df13-41b1-9a3b-3a30c2272cf6"
      },
      "execution_count": null,
      "outputs": [
        {
          "output_type": "stream",
          "name": "stdout",
          "text": [
            "                precision    recall  f1-score   support\n",
            "\n",
            "       Dessert       0.94      0.99      0.97       407\n",
            "        Entrée       0.75      0.42      0.54       337\n",
            "Plat principal       0.76      0.91      0.83       644\n",
            "\n",
            "      accuracy                           0.82      1388\n",
            "     macro avg       0.82      0.77      0.78      1388\n",
            "  weighted avg       0.81      0.82      0.80      1388\n",
            "\n"
          ]
        }
      ]
    },
    {
      "cell_type": "code",
      "source": [
        "clf = RandomForestClassifier(max_depth=20, random_state=0)\n",
        "clf.fit(train_vectors, train[\"type\"])\n",
        "y_pred = clf.predict(test_vectors)\n",
        "print(classification_report(y_test, y_pred))"
      ],
      "metadata": {
        "colab": {
          "base_uri": "https://localhost:8080/"
        },
        "id": "nfRbwO-8Zc7N",
        "outputId": "1362b3c8-9a30-49a7-825f-cf91bfe7c5e4"
      },
      "execution_count": null,
      "outputs": [
        {
          "output_type": "stream",
          "name": "stdout",
          "text": [
            "                precision    recall  f1-score   support\n",
            "\n",
            "       Dessert       0.94      0.99      0.97       407\n",
            "        Entrée       0.70      0.43      0.53       337\n",
            "Plat principal       0.76      0.89      0.82       644\n",
            "\n",
            "      accuracy                           0.81      1388\n",
            "     macro avg       0.80      0.77      0.77      1388\n",
            "  weighted avg       0.80      0.81      0.79      1388\n",
            "\n"
          ]
        }
      ]
    },
    {
      "cell_type": "code",
      "source": [
        "gnb = GaussianNB()\n",
        "y_pred = gnb.fit(train_vectors, y_train).predict(test_vectors)\n",
        "print(classification_report(y_test, y_pred))"
      ],
      "metadata": {
        "colab": {
          "base_uri": "https://localhost:8080/"
        },
        "id": "5ag1MHxmgOF_",
        "outputId": "7efeb2b6-c7fa-41a2-96e6-c9fa7bd7adb5"
      },
      "execution_count": 155,
      "outputs": [
        {
          "output_type": "stream",
          "name": "stdout",
          "text": [
            "                precision    recall  f1-score   support\n",
            "\n",
            "       Dessert       0.92      0.98      0.95       407\n",
            "        Entrée       0.52      0.58      0.55       337\n",
            "Plat principal       0.80      0.72      0.75       644\n",
            "\n",
            "      accuracy                           0.76      1388\n",
            "     macro avg       0.75      0.76      0.75      1388\n",
            "  weighted avg       0.77      0.76      0.76      1388\n",
            "\n"
          ]
        }
      ]
    },
    {
      "cell_type": "code",
      "source": [
        "cm = confusion_matrix(y_test, y_pred)\n",
        "plt.figure(figsize=(8,6))\n",
        "sns.heatmap(cm, annot=True, fmt=\"d\", cmap=\"Greens\", xticklabels=logreg.classes_, yticklabels=logreg.classes_)\n",
        "plt.xlabel(\"Prédictions\")\n",
        "plt.ylabel(\"Vraies classes\")\n",
        "plt.title(\"Matrice de Confusion\")\n",
        "plt.show()"
      ],
      "metadata": {
        "colab": {
          "base_uri": "https://localhost:8080/",
          "height": 564
        },
        "id": "DkmjG0Ko1wxg",
        "outputId": "8d4cd3f9-9b4a-4781-982d-4cf7c3f86c40"
      },
      "execution_count": 156,
      "outputs": [
        {
          "output_type": "display_data",
          "data": {
            "text/plain": [
              "<Figure size 800x600 with 2 Axes>"
            ],
            "image/png": "[encoded data removed]"
          },
          "metadata": {}
        }
      ]
    },
    {
      "cell_type": "code",
      "source": [],
      "metadata": {
        "id": "tV-u_JmG1y-0"
      },
      "execution_count": null,
      "outputs": []
    }
  ]
}